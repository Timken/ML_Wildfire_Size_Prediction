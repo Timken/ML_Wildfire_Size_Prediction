{
 "cells": [
  {
   "cell_type": "markdown",
   "metadata": {},
   "source": [
    "### Imports"
   ]
  },
  {
   "cell_type": "code",
   "execution_count": 1,
   "metadata": {},
   "outputs": [],
   "source": [
    "import pandas as pd"
   ]
  },
  {
   "cell_type": "code",
   "execution_count": 2,
   "metadata": {},
   "outputs": [],
   "source": [
    "import numpy as np"
   ]
  },
  {
   "cell_type": "code",
   "execution_count": 3,
   "metadata": {},
   "outputs": [],
   "source": [
    "import category_encoders as ce"
   ]
  },
  {
   "cell_type": "code",
   "execution_count": 3,
   "metadata": {},
   "outputs": [],
   "source": [
    "import matplotlib.pyplot as plt"
   ]
  },
  {
   "cell_type": "code",
   "execution_count": 5,
   "metadata": {},
   "outputs": [],
   "source": [
    "from sklearn.tree import DecisionTreeClassifier"
   ]
  },
  {
   "cell_type": "code",
   "execution_count": 6,
   "metadata": {},
   "outputs": [],
   "source": [
    "from sklearn.ensemble import RandomForestClassifier"
   ]
  },
  {
   "cell_type": "code",
   "execution_count": 4,
   "metadata": {},
   "outputs": [],
   "source": [
    "from sklearn.metrics import accuracy_score"
   ]
  },
  {
   "cell_type": "code",
   "execution_count": 5,
   "metadata": {},
   "outputs": [],
   "source": [
    "from sklearn.metrics import f1_score"
   ]
  },
  {
   "cell_type": "code",
   "execution_count": 6,
   "metadata": {},
   "outputs": [],
   "source": [
    "from sklearn.model_selection import cross_val_score"
   ]
  },
  {
   "cell_type": "code",
   "execution_count": 7,
   "metadata": {},
   "outputs": [],
   "source": [
    "from sklearn.model_selection import train_test_split"
   ]
  },
  {
   "cell_type": "code",
   "execution_count": 11,
   "metadata": {},
   "outputs": [],
   "source": [
    "from sklearn import preprocessing"
   ]
  },
  {
   "cell_type": "code",
   "execution_count": 12,
   "metadata": {},
   "outputs": [],
   "source": [
    "from datetime import datetime"
   ]
  },
  {
   "cell_type": "code",
   "execution_count": 8,
   "metadata": {},
   "outputs": [],
   "source": [
    "from xgboost import XGBClassifier"
   ]
  },
  {
   "cell_type": "code",
   "execution_count": 9,
   "metadata": {},
   "outputs": [],
   "source": [
    "from sklearn.model_selection import RandomizedSearchCV"
   ]
  },
  {
   "cell_type": "code",
   "execution_count": 10,
   "metadata": {},
   "outputs": [],
   "source": [
    "from sklearn.model_selection import GridSearchCV"
   ]
  },
  {
   "cell_type": "code",
   "execution_count": 11,
   "metadata": {},
   "outputs": [],
   "source": [
    "from pprint import pprint"
   ]
  },
  {
   "cell_type": "markdown",
   "metadata": {},
   "source": [
    "### Data preprocess functions"
   ]
  },
  {
   "cell_type": "code",
   "execution_count": 14,
   "metadata": {},
   "outputs": [],
   "source": [
    "# function to convert strings and object types to number\n",
    "def labelEncode(data, columns):\n",
    "    objectData = data[columns]\n",
    "    objectData = objectData.select_dtypes(exclude=['int64','float64']) # remove columns which are already a number \n",
    "    objectDataColumns = list(objectData)\n",
    "    le = preprocessing.LabelEncoder()\n",
    "    for column in objectDataColumns:\n",
    "        objectData[column] = le.fit_transform(objectData[column])\n",
    "    data.loc[objectData.index,objectData.columns] = objectData # merge to dataframe\n",
    "    return data"
   ]
  },
  {
   "cell_type": "code",
   "execution_count": 15,
   "metadata": {},
   "outputs": [],
   "source": [
    "# function to convert string to date time type for easy manipulation\n",
    "def toDateTime(data, columns):\n",
    "    for column in columns:\n",
    "        date_data = data[column]\n",
    "        date_data = date_data.fillna('0001-01-01 00:00:00') # str\n",
    "        for i,items in date_data.iteritems():\n",
    "            date_data[i] = datetime.strptime(items, '%Y-%m-%d %H:%M:%S')\n",
    "        data.loc[date_data.index, date_data.name] = date_data # merge to dataframe\n",
    "    return data"
   ]
  },
  {
   "cell_type": "code",
   "execution_count": 16,
   "metadata": {},
   "outputs": [],
   "source": [
    "# merge similar date columns to fill missing values\n",
    "def dateCorrMerge(data):\n",
    "    checkDate = datetime(1, 1, 1) # value filled for NaN while converting to datetime \n",
    "    for ind in data.index: \n",
    "        if data['reported_date'][ind] == checkDate:\n",
    "            if data['fire_start_date'][ind] != checkDate:\n",
    "                data['reported_date'][ind] = data['fire_start_date'][ind]\n",
    "            elif dateData['discovered_date'][ind] != checkDate:\n",
    "                data['reported_date'][ind] = data['discovered_date'][ind]\n",
    "            else:\n",
    "                data['reported_date'][ind] = data['start_for_fire_date'][ind]\n",
    "        if data['ex_fs_date'][ind] == checkDate:\n",
    "            if data['uc_fs_date'][ind] != checkDate:\n",
    "                data['ex_fs_date'][ind] = data['uc_fs_date'][ind]\n",
    "            else:\n",
    "                data['ex_fs_date'][ind] = data['bh_fs_date'][ind]\n",
    "        if data['uc_fs_date'][ind] == checkDate:\n",
    "            if data['ex_fs_date'][ind] != checkDate:\n",
    "                data['uc_fs_date'][ind] = data['ex_fs_date'][ind]\n",
    "            else:\n",
    "                data['uc_fs_date'][ind] = data['uc_fs_date'][ind]\n",
    "        if data['bh_fs_date'][ind] == checkDate:\n",
    "            if data['start_for_fire_date'][ind] != checkDate:\n",
    "                data['bh_fs_date'][ind] = data['start_for_fire_date'][ind]\n",
    "            else:\n",
    "                data['bh_fs_date'][ind] = data['discovered_date'][ind]\n",
    "    data_processed = data.drop(['fire_start_date','discovered_date','start_for_fire_date'],axis = 1)\n",
    "    return data_processed"
   ]
  },
  {
   "cell_type": "code",
   "execution_count": 17,
   "metadata": {},
   "outputs": [],
   "source": [
    "# calc fire duration and month : substract extingush date from report date\n",
    "def fireDurMonth(data):\n",
    "    data_processed = data \n",
    "    data_processed['fire_duration'] = data['ex_fs_date'] - data['reported_date']\n",
    "    data_processed['fire_duration2'] = data['uc_fs_date'] - data['bh_fs_date']\n",
    "    data_processed['fire_duration3'] = data['ex_fs_date'] - data['uc_fs_date']\n",
    "    data_processed['reported_month'] = data['reported_date']\n",
    "    for ind in data_processed.index:\n",
    "        data_processed['reported_month'][ind] = int(data_processed['reported_date'][ind].month)\n",
    "        data_processed['fire_duration'][ind] = long(data_processed['fire_duration'][ind].total_seconds())\n",
    "        data_processed['fire_duration2'][ind] = long(data_processed['fire_duration2'][ind].total_seconds())\n",
    "        data_processed['fire_duration3'][ind] = long(data_processed['fire_duration3'][ind].total_seconds())\n",
    "    data_processed = data_processed.drop(['ex_fs_date','reported_date','uc_fs_date','bh_fs_date'],axis = 1)\n",
    "    return data_processed"
   ]
  },
  {
   "cell_type": "code",
   "execution_count": 18,
   "metadata": {},
   "outputs": [],
   "source": [
    "# oneHot Encode : split text column into numerical columns\n",
    "def oneHotEncode(data, columns):\n",
    "    objectData = data[columns]\n",
    "    objectData = objectData.select_dtypes(exclude=['int64','float64']) # remove columns which are already a number\n",
    "    ohe = ce.OneHotEncoder(handle_unknown='value', use_cat_names=True)\n",
    "    objectData = ohe.fit_transform(objectData)\n",
    "    data = pd.merge(data, objectData, right_index=True, left_index=True)\n",
    "    data = data.drop(columns,axis=1)\n",
    "    return data"
   ]
  },
  {
   "cell_type": "code",
   "execution_count": 19,
   "metadata": {},
   "outputs": [],
   "source": [
    "# data preprocess main function\n",
    "def preprocess(data) :\n",
    "    data_processed = data\n",
    "    # first letter from fire_number : forest area in which the ignition area is located\n",
    "    data_processed['fire_number'] = data_processed['fire_number'].astype(str).str[0]\n",
    "    # remove unwanted columns\n",
    "    data_processed = data_processed.drop(['fire_year','initial_action_by','fire_position_on_slope','assessment_datetime','fire_fighting_start_date','true_cause','det_agent_type','det_agent'],axis = 1)\n",
    "    # make date format correct\n",
    "    data_processed = toDateTime(data_processed,['fire_start_date','discovered_date','reported_date','start_for_fire_date','bh_fs_date','uc_fs_date','ex_fs_date'])\n",
    "    # process the dates to calc month & duration of fire\n",
    "    data_processed = dateCorrMerge(data_processed)\n",
    "    data_processed = fireDurMonth(data_processed)\n",
    "    # make data to numeric/seperate column\n",
    "    # data_processed = oneHotEncode(data_processed,['general_cause_desc','fuel_type','fire_position_on_slope'])\n",
    "    data_processed = labelEncode(data_processed,['general_cause_desc','fuel_type','fire_origin','fire_number','activity_class','fire_type','weather_conditions_over_fire'])\n",
    "    return data_processed"
   ]
  },
  {
   "cell_type": "markdown",
   "metadata": {},
   "source": [
    "### Data read"
   ]
  },
  {
   "cell_type": "code",
   "execution_count": 12,
   "metadata": {},
   "outputs": [],
   "source": [
    "train_data = pd.read_csv('train.csv')"
   ]
  },
  {
   "cell_type": "code",
   "execution_count": 13,
   "metadata": {},
   "outputs": [],
   "source": [
    "test_data_X = pd.read_csv('test.csv')"
   ]
  },
  {
   "cell_type": "code",
   "execution_count": 14,
   "metadata": {},
   "outputs": [],
   "source": [
    "train_data_Y = train_data['size_class'] # column to be predicted "
   ]
  },
  {
   "cell_type": "code",
   "execution_count": 15,
   "metadata": {},
   "outputs": [],
   "source": [
    "train_data_X = train_data.drop(columns = \"size_class\")"
   ]
  },
  {
   "cell_type": "markdown",
   "metadata": {},
   "source": [
    "### Preprocess"
   ]
  },
  {
   "cell_type": "code",
   "execution_count": 21,
   "metadata": {},
   "outputs": [],
   "source": [
    "# train_data_X_processed = preprocess(train_data_X)"
   ]
  },
  {
   "cell_type": "code",
   "execution_count": 16,
   "metadata": {},
   "outputs": [],
   "source": [
    "# save the processed data to csv (to save time)\n",
    "# train_data_X_processed.to_csv('trainProcessed.csv',index=False)\n",
    "# read already processed data\n",
    "train_data_X_processed = pd.read_csv('trainProcessed.csv')"
   ]
  },
  {
   "cell_type": "code",
   "execution_count": 17,
   "metadata": {},
   "outputs": [
    {
     "data": {
      "text/plain": [
       "fire_number                       int64\n",
       "fire_location_latitude          float64\n",
       "fire_location_longitude         float64\n",
       "fire_origin                       int64\n",
       "general_cause_desc                int64\n",
       "activity_class                    int64\n",
       "fire_type                         int64\n",
       "weather_conditions_over_fire      int64\n",
       "fuel_type                         int64\n",
       "fire_duration                     int64\n",
       "fire_duration2                    int64\n",
       "fire_duration3                    int64\n",
       "reported_month                    int64\n",
       "dtype: object"
      ]
     },
     "execution_count": 17,
     "metadata": {},
     "output_type": "execute_result"
    }
   ],
   "source": [
    "train_data_X_processed.dtypes"
   ]
  },
  {
   "cell_type": "code",
   "execution_count": 18,
   "metadata": {},
   "outputs": [],
   "source": [
    "# data split"
   ]
  },
  {
   "cell_type": "code",
   "execution_count": 19,
   "metadata": {},
   "outputs": [
    {
     "name": "stderr",
     "output_type": "stream",
     "text": [
      "C:\\Users\\uib50578\\AppData\\Local\\Continuum\\anaconda2\\lib\\site-packages\\sklearn\\model_selection\\_split.py:2179: FutureWarning: From version 0.21, test_size will always complement train_size unless both are specified.\n",
      "  FutureWarning)\n"
     ]
    }
   ],
   "source": [
    "train_data_X, validate_data_X, train_data_Y, validate_data_Y = train_test_split(train_data_X_processed, train_data_Y, train_size=0.75, random_state=25)"
   ]
  },
  {
   "cell_type": "markdown",
   "metadata": {},
   "source": [
    "### Model training and tuning"
   ]
  },
  {
   "cell_type": "code",
   "execution_count": 20,
   "metadata": {},
   "outputs": [],
   "source": [
    "# model = DecisionTreeClassifier(random_state=25)\n",
    "# model = RandomForestClassifier(n_estimators=100, random_state=25)\n",
    "model = XGBClassifier(random_state=25, n_estimators=150, max_depth=5)"
   ]
  },
  {
   "cell_type": "markdown",
   "metadata": {},
   "source": [
    "Hyperparameter Tuning"
   ]
  },
  {
   "cell_type": "code",
   "execution_count": 21,
   "metadata": {},
   "outputs": [
    {
     "name": "stdout",
     "output_type": "stream",
     "text": [
      "{'base_score': 0.5,\n",
      " 'booster': 'gbtree',\n",
      " 'colsample_bylevel': 1,\n",
      " 'colsample_bytree': 1,\n",
      " 'gamma': 0,\n",
      " 'learning_rate': 0.1,\n",
      " 'max_delta_step': 0,\n",
      " 'max_depth': 5,\n",
      " 'min_child_weight': 1,\n",
      " 'missing': None,\n",
      " 'n_estimators': 150,\n",
      " 'n_jobs': 1,\n",
      " 'nthread': None,\n",
      " 'objective': 'binary:logistic',\n",
      " 'random_state': 25,\n",
      " 'reg_alpha': 0,\n",
      " 'reg_lambda': 1,\n",
      " 'scale_pos_weight': 1,\n",
      " 'seed': None,\n",
      " 'silent': True,\n",
      " 'subsample': 1}\n"
     ]
    }
   ],
   "source": [
    "# Parameters currently in use :\n",
    "pprint(model.get_params())"
   ]
  },
  {
   "cell_type": "code",
   "execution_count": 28,
   "metadata": {},
   "outputs": [],
   "source": [
    "# A parameter grid for XGBoost\n",
    "params_grid = {\n",
    "        'base_score': [0.1, 0.2, 0.3],\n",
    "        'min_child_weight': [0.9, 1],\n",
    "        'gamma': [1, 1.2],\n",
    "        'subsample': [0.5, 0.6],\n",
    "        'colsample_bytree': [0.5, 0.6],\n",
    "        'n_estimators': [120, 150, 170],\n",
    "        'max_depth': [5]\n",
    "        }"
   ]
  },
  {
   "cell_type": "markdown",
   "metadata": {},
   "source": [
    "Random search"
   ]
  },
  {
   "cell_type": "code",
   "execution_count": 27,
   "metadata": {},
   "outputs": [
    {
     "name": "stdout",
     "output_type": "stream",
     "text": [
      "Fitting 3 folds for each of 100 candidates, totalling 300 fits\n"
     ]
    },
    {
     "name": "stderr",
     "output_type": "stream",
     "text": [
      "[Parallel(n_jobs=-1)]: Using backend LokyBackend with 8 concurrent workers.\n",
      "[Parallel(n_jobs=-1)]: Done  25 tasks      | elapsed:  2.5min\n",
      "[Parallel(n_jobs=-1)]: Done 146 tasks      | elapsed: 10.6min\n",
      "[Parallel(n_jobs=-1)]: Done 300 out of 300 | elapsed: 19.6min finished\n"
     ]
    },
    {
     "name": "stdout",
     "output_type": "stream",
     "text": [
      "{'base_score': 0.2,\n",
      " 'colsample_bytree': 0.6,\n",
      " 'gamma': 1,\n",
      " 'max_depth': 5,\n",
      " 'min_child_weight': 1,\n",
      " 'n_estimators': 150,\n",
      " 'subsample': 0.6}\n",
      "('Macro-F1 Score :', 0.5705578670132863, '(+/- 0.01)')\n"
     ]
    }
   ],
   "source": [
    "# Random search of parameters\n",
    "random_search = RandomizedSearchCV(estimator=model, param_distributions=params_grid, n_iter=100, cv=3, verbose=2, random_state=25, n_jobs=-1)\n",
    "# Fit the random search model\n",
    "random_search.fit(train_data_X, train_data_Y)\n",
    "# Best param after fitting\n",
    "pprint(random_search.best_params_)\n",
    "# Evaluate Random Search\n",
    "model = random_search.best_estimator_\n",
    "# 5-Fold Cross validation\n",
    "cv_scores = cross_val_score(model, train_data_X, train_data_Y, cv=5, scoring='f1_macro')\n",
    "print(\"Macro-F1 Score :\", np.mean(cv_scores), \"(+/- %0.2f)\" % (cv_scores.std() * 2))"
   ]
  },
  {
   "cell_type": "markdown",
   "metadata": {},
   "source": [
    "Grid search"
   ]
  },
  {
   "cell_type": "code",
   "execution_count": 29,
   "metadata": {},
   "outputs": [
    {
     "name": "stdout",
     "output_type": "stream",
     "text": [
      "Fitting 5 folds for each of 144 candidates, totalling 720 fits\n"
     ]
    },
    {
     "name": "stderr",
     "output_type": "stream",
     "text": [
      "[Parallel(n_jobs=-1)]: Using backend LokyBackend with 8 concurrent workers.\n",
      "[Parallel(n_jobs=-1)]: Done  25 tasks      | elapsed:  1.6min\n",
      "[Parallel(n_jobs=-1)]: Done 146 tasks      | elapsed:  7.5min\n",
      "[Parallel(n_jobs=-1)]: Done 349 tasks      | elapsed: 29.8min\n",
      "[Parallel(n_jobs=-1)]: Done 632 tasks      | elapsed: 43.8min\n",
      "[Parallel(n_jobs=-1)]: Done 720 out of 720 | elapsed: 70.8min finished\n"
     ]
    },
    {
     "name": "stdout",
     "output_type": "stream",
     "text": [
      "{'base_score': 0.1,\n",
      " 'colsample_bytree': 0.6,\n",
      " 'gamma': 1,\n",
      " 'max_depth': 5,\n",
      " 'min_child_weight': 1,\n",
      " 'n_estimators': 150,\n",
      " 'subsample': 0.5}\n",
      "('Macro-F1 Score :', 0.5724732651062985, '(+/- 0.02)')\n"
     ]
    }
   ],
   "source": [
    "# Grid search of parameters for model\n",
    "grid_search = GridSearchCV(estimator=model, param_grid=params_grid, cv=5, verbose=2, n_jobs=-1)\n",
    "# Fit the grid search to the data\n",
    "grid_search.fit(train_data_X, train_data_Y)\n",
    "# Best param after fitting\n",
    "pprint(grid_search.best_params_)\n",
    "# Evaluate best grid search model\n",
    "model = grid_search.best_estimator_\n",
    "# 5-Fold Cross validation\n",
    "cv_scores = cross_val_score(model, train_data_X, train_data_Y, cv=5, scoring='f1_macro')\n",
    "print(\"Macro-F1 Score :\", np.mean(cv_scores), \"(+/- %0.2f)\" % (cv_scores.std() * 2))"
   ]
  },
  {
   "cell_type": "code",
   "execution_count": 30,
   "metadata": {},
   "outputs": [
    {
     "data": {
      "text/plain": [
       "XGBClassifier(base_score=0.1, booster='gbtree', colsample_bylevel=1,\n",
       "       colsample_bytree=0.6, gamma=1, learning_rate=0.1, max_delta_step=0,\n",
       "       max_depth=5, min_child_weight=1, missing=None, n_estimators=150,\n",
       "       n_jobs=1, nthread=None, objective='multi:softprob', random_state=25,\n",
       "       reg_alpha=0, reg_lambda=1, scale_pos_weight=1, seed=None,\n",
       "       silent=True, subsample=0.5)"
      ]
     },
     "execution_count": 30,
     "metadata": {},
     "output_type": "execute_result"
    }
   ],
   "source": [
    "model.fit(train_data_X, train_data_Y)"
   ]
  },
  {
   "cell_type": "markdown",
   "metadata": {},
   "source": [
    "predict validation data"
   ]
  },
  {
   "cell_type": "code",
   "execution_count": 31,
   "metadata": {},
   "outputs": [],
   "source": [
    "pred_validate_data_Y = model.predict(validate_data_X)"
   ]
  },
  {
   "cell_type": "markdown",
   "metadata": {},
   "source": [
    "### Evaluation"
   ]
  },
  {
   "cell_type": "code",
   "execution_count": 32,
   "metadata": {},
   "outputs": [
    {
     "name": "stdout",
     "output_type": "stream",
     "text": [
      "('Validation accuracy score:', 0.7792894935752078)\n"
     ]
    }
   ],
   "source": [
    "print('Validation accuracy score:', accuracy_score(validate_data_Y, pred_validate_data_Y))"
   ]
  },
  {
   "cell_type": "code",
   "execution_count": 33,
   "metadata": {},
   "outputs": [
    {
     "name": "stdout",
     "output_type": "stream",
     "text": [
      "('Macro F1-score:', 0.5748024675708793)\n"
     ]
    }
   ],
   "source": [
    "print('Macro F1-score:', f1_score(validate_data_Y, pred_validate_data_Y, average='macro'))"
   ]
  },
  {
   "cell_type": "markdown",
   "metadata": {},
   "source": [
    "Cross Validation"
   ]
  },
  {
   "cell_type": "code",
   "execution_count": 34,
   "metadata": {},
   "outputs": [
    {
     "name": "stdout",
     "output_type": "stream",
     "text": [
      "('Macro-F1 Score :', 0.5724732651062985, '(+/- 0.02)')\n"
     ]
    }
   ],
   "source": [
    "# 5-Fold Cross validation\n",
    "cv_scores = cross_val_score(model, train_data_X, train_data_Y, cv=5, scoring='f1_macro')\n",
    "print(\"Macro-F1 Score :\", np.mean(cv_scores), \"(+/- %0.2f)\" % (cv_scores.std() * 2))"
   ]
  },
  {
   "cell_type": "code",
   "execution_count": 35,
   "metadata": {},
   "outputs": [],
   "source": [
    "# re-train model on all train data"
   ]
  },
  {
   "cell_type": "code",
   "execution_count": 36,
   "metadata": {},
   "outputs": [],
   "source": [
    "train_data_X = train_data_X_processed\n",
    "train_data_Y = train_data['size_class'] # column to be predicted "
   ]
  },
  {
   "cell_type": "code",
   "execution_count": 37,
   "metadata": {},
   "outputs": [
    {
     "data": {
      "text/plain": [
       "XGBClassifier(base_score=0.1, booster='gbtree', colsample_bylevel=1,\n",
       "       colsample_bytree=0.6, gamma=1, learning_rate=0.1, max_delta_step=0,\n",
       "       max_depth=5, min_child_weight=1, missing=None, n_estimators=150,\n",
       "       n_jobs=1, nthread=None, objective='multi:softprob', random_state=25,\n",
       "       reg_alpha=0, reg_lambda=1, scale_pos_weight=1, seed=None,\n",
       "       silent=True, subsample=0.5)"
      ]
     },
     "execution_count": 37,
     "metadata": {},
     "output_type": "execute_result"
    }
   ],
   "source": [
    "model.fit(train_data_X, train_data_Y)"
   ]
  },
  {
   "cell_type": "markdown",
   "metadata": {},
   "source": [
    "Feature importance"
   ]
  },
  {
   "cell_type": "code",
   "execution_count": 38,
   "metadata": {},
   "outputs": [
    {
     "data": {
      "text/html": [
       "<div>\n",
       "<style scoped>\n",
       "    .dataframe tbody tr th:only-of-type {\n",
       "        vertical-align: middle;\n",
       "    }\n",
       "\n",
       "    .dataframe tbody tr th {\n",
       "        vertical-align: top;\n",
       "    }\n",
       "\n",
       "    .dataframe thead th {\n",
       "        text-align: right;\n",
       "    }\n",
       "</style>\n",
       "<table border=\"1\" class=\"dataframe\">\n",
       "  <thead>\n",
       "    <tr style=\"text-align: right;\">\n",
       "      <th></th>\n",
       "      <th>Importance</th>\n",
       "    </tr>\n",
       "    <tr>\n",
       "      <th>Feature</th>\n",
       "      <th></th>\n",
       "    </tr>\n",
       "  </thead>\n",
       "  <tbody>\n",
       "    <tr>\n",
       "      <th>fuel_type</th>\n",
       "      <td>0.147971</td>\n",
       "    </tr>\n",
       "    <tr>\n",
       "      <th>fire_duration2</th>\n",
       "      <td>0.139350</td>\n",
       "    </tr>\n",
       "    <tr>\n",
       "      <th>fire_duration</th>\n",
       "      <td>0.118139</td>\n",
       "    </tr>\n",
       "    <tr>\n",
       "      <th>fire_duration3</th>\n",
       "      <td>0.094678</td>\n",
       "    </tr>\n",
       "    <tr>\n",
       "      <th>fire_type</th>\n",
       "      <td>0.078595</td>\n",
       "    </tr>\n",
       "    <tr>\n",
       "      <th>reported_month</th>\n",
       "      <td>0.075208</td>\n",
       "    </tr>\n",
       "    <tr>\n",
       "      <th>fire_origin</th>\n",
       "      <td>0.061157</td>\n",
       "    </tr>\n",
       "    <tr>\n",
       "      <th>activity_class</th>\n",
       "      <td>0.053573</td>\n",
       "    </tr>\n",
       "    <tr>\n",
       "      <th>general_cause_desc</th>\n",
       "      <td>0.052062</td>\n",
       "    </tr>\n",
       "    <tr>\n",
       "      <th>fire_location_latitude</th>\n",
       "      <td>0.051424</td>\n",
       "    </tr>\n",
       "    <tr>\n",
       "      <th>weather_conditions_over_fire</th>\n",
       "      <td>0.043301</td>\n",
       "    </tr>\n",
       "    <tr>\n",
       "      <th>fire_location_longitude</th>\n",
       "      <td>0.042835</td>\n",
       "    </tr>\n",
       "    <tr>\n",
       "      <th>fire_number</th>\n",
       "      <td>0.041708</td>\n",
       "    </tr>\n",
       "  </tbody>\n",
       "</table>\n",
       "</div>"
      ],
      "text/plain": [
       "                              Importance\n",
       "Feature                                 \n",
       "fuel_type                       0.147971\n",
       "fire_duration2                  0.139350\n",
       "fire_duration                   0.118139\n",
       "fire_duration3                  0.094678\n",
       "fire_type                       0.078595\n",
       "reported_month                  0.075208\n",
       "fire_origin                     0.061157\n",
       "activity_class                  0.053573\n",
       "general_cause_desc              0.052062\n",
       "fire_location_latitude          0.051424\n",
       "weather_conditions_over_fire    0.043301\n",
       "fire_location_longitude         0.042835\n",
       "fire_number                     0.041708"
      ]
     },
     "execution_count": 38,
     "metadata": {},
     "output_type": "execute_result"
    }
   ],
   "source": [
    "importance = pd.DataFrame()\n",
    "importance['Feature'] = train_data_X.columns\n",
    "importance['Importance'] = model.feature_importances_\n",
    "importance.set_index('Feature', inplace=True)\n",
    "\n",
    "importance.sort_values(by='Importance', ascending=False)"
   ]
  },
  {
   "cell_type": "markdown",
   "metadata": {},
   "source": [
    "Confusion Matrix"
   ]
  },
  {
   "cell_type": "code",
   "execution_count": 39,
   "metadata": {},
   "outputs": [
    {
     "data": {
      "image/png": "[encoded data removed]",
      "text/plain": [
       "<Figure size 432x288 with 2 Axes>"
      ]
     },
     "metadata": {
      "needs_background": "light"
     },
     "output_type": "display_data"
    }
   ],
   "source": [
    "# Using seaborn: (plot_confusion_matrix has some version issues)\n",
    "import seaborn as sn\n",
    "confusion_matrix = pd.crosstab(validate_data_Y, pred_validate_data_Y, rownames=['Actual'], colnames=['Predicted'])\n",
    "sn.heatmap(confusion_matrix, annot=True)\n",
    "plt.show()"
   ]
  },
  {
   "cell_type": "markdown",
   "metadata": {},
   "source": [
    "### Predict on Test dataset"
   ]
  },
  {
   "cell_type": "code",
   "execution_count": 40,
   "metadata": {},
   "outputs": [],
   "source": [
    "pred_test_data_Y = pd.DataFrame()\n",
    "pred_test_data_Y['fire_number'] = test_data_X['fire_number']"
   ]
  },
  {
   "cell_type": "code",
   "execution_count": 42,
   "metadata": {},
   "outputs": [
    {
     "name": "stderr",
     "output_type": "stream",
     "text": [
      "C:\\Users\\uib50578\\AppData\\Local\\Continuum\\anaconda2\\lib\\site-packages\\ipykernel_launcher.py:9: SettingWithCopyWarning: \n",
      "A value is trying to be set on a copy of a slice from a DataFrame\n",
      "\n",
      "See the caveats in the documentation: http://pandas.pydata.org/pandas-docs/stable/indexing.html#indexing-view-versus-copy\n",
      "  if __name__ == '__main__':\n",
      "C:\\Users\\uib50578\\AppData\\Local\\Continuum\\anaconda2\\lib\\site-packages\\ipykernel_launcher.py:10: SettingWithCopyWarning: \n",
      "A value is trying to be set on a copy of a slice from a DataFrame\n",
      "\n",
      "See the caveats in the documentation: http://pandas.pydata.org/pandas-docs/stable/indexing.html#indexing-view-versus-copy\n",
      "  # Remove the CWD from sys.path while we load stuff.\n",
      "C:\\Users\\uib50578\\AppData\\Local\\Continuum\\anaconda2\\lib\\site-packages\\ipykernel_launcher.py:11: SettingWithCopyWarning: \n",
      "A value is trying to be set on a copy of a slice from a DataFrame\n",
      "\n",
      "See the caveats in the documentation: http://pandas.pydata.org/pandas-docs/stable/indexing.html#indexing-view-versus-copy\n",
      "  # This is added back by InteractiveShellApp.init_path()\n",
      "C:\\Users\\uib50578\\AppData\\Local\\Continuum\\anaconda2\\lib\\site-packages\\ipykernel_launcher.py:12: SettingWithCopyWarning: \n",
      "A value is trying to be set on a copy of a slice from a DataFrame\n",
      "\n",
      "See the caveats in the documentation: http://pandas.pydata.org/pandas-docs/stable/indexing.html#indexing-view-versus-copy\n",
      "  if sys.path[0] == '':\n"
     ]
    }
   ],
   "source": [
    "# test_data_X = preprocess(test_data_X)"
   ]
  },
  {
   "cell_type": "code",
   "execution_count": 41,
   "metadata": {},
   "outputs": [],
   "source": [
    "# save the processed data to csv (to save time)\n",
    "# test_data_X.to_csv('testProcessed.csv',index=False)\n",
    "# read already processed data\n",
    "test_data_X = pd.read_csv('testProcessed.csv')"
   ]
  },
  {
   "cell_type": "code",
   "execution_count": 42,
   "metadata": {},
   "outputs": [
    {
     "data": {
      "text/plain": [
       "fire_number                       int64\n",
       "fire_location_latitude          float64\n",
       "fire_location_longitude         float64\n",
       "fire_origin                       int64\n",
       "general_cause_desc                int64\n",
       "activity_class                    int64\n",
       "fire_type                         int64\n",
       "weather_conditions_over_fire      int64\n",
       "fuel_type                         int64\n",
       "fire_duration                     int64\n",
       "fire_duration2                    int64\n",
       "fire_duration3                    int64\n",
       "reported_month                    int64\n",
       "dtype: object"
      ]
     },
     "execution_count": 42,
     "metadata": {},
     "output_type": "execute_result"
    }
   ],
   "source": [
    "test_data_X.dtypes"
   ]
  },
  {
   "cell_type": "code",
   "execution_count": 43,
   "metadata": {},
   "outputs": [],
   "source": [
    "pred_test_data_Y['size_class'] = model.predict(test_data_X)"
   ]
  },
  {
   "cell_type": "code",
   "execution_count": 44,
   "metadata": {},
   "outputs": [
    {
     "data": {
      "text/plain": [
       "(3969, 2)"
      ]
     },
     "execution_count": 44,
     "metadata": {},
     "output_type": "execute_result"
    }
   ],
   "source": [
    "pred_test_data_Y.shape"
   ]
  }
 ],
 "metadata": {
  "kernelspec": {
   "display_name": "Python 2",
   "language": "python",
   "name": "python2"
  },
  "language_info": {
   "codemirror_mode": {
    "name": "ipython",
    "version": 2
   },
   "file_extension": ".py",
   "mimetype": "text/x-python",
   "name": "python",
   "nbconvert_exporter": "python",
   "pygments_lexer": "ipython2",
   "version": "2.7.16"
  }
 },
 "nbformat": 4,
 "nbformat_minor": 2
}
