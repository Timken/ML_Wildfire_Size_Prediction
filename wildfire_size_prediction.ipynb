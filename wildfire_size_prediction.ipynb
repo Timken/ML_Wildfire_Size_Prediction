{
 "cells": [
  {
   "cell_type": "markdown",
   "metadata": {},
   "source": [
    "### Imports"
   ]
  },
  {
   "cell_type": "code",
   "execution_count": 1,
   "metadata": {},
   "outputs": [],
   "source": [
    "import pandas as pd"
   ]
  },
  {
   "cell_type": "code",
   "execution_count": 2,
   "metadata": {},
   "outputs": [],
   "source": [
    "import numpy as np"
   ]
  },
  {
   "cell_type": "code",
   "execution_count": 3,
   "metadata": {},
   "outputs": [],
   "source": [
    "import matplotlib.pyplot as plt"
   ]
  },
  {
   "cell_type": "code",
   "execution_count": 4,
   "metadata": {},
   "outputs": [],
   "source": [
    "from sklearn.model_selection import train_test_split"
   ]
  },
  {
   "cell_type": "code",
   "execution_count": 5,
   "metadata": {},
   "outputs": [],
   "source": [
    "from sklearn.metrics import accuracy_score"
   ]
  },
  {
   "cell_type": "code",
   "execution_count": 6,
   "metadata": {},
   "outputs": [],
   "source": [
    "from sklearn.metrics import f1_score"
   ]
  },
  {
   "cell_type": "code",
   "execution_count": 7,
   "metadata": {},
   "outputs": [],
   "source": [
    "from sklearn.model_selection import cross_val_score"
   ]
  },
  {
   "cell_type": "code",
   "execution_count": 8,
   "metadata": {},
   "outputs": [],
   "source": [
    "from sklearn.tree import DecisionTreeClassifier"
   ]
  },
  {
   "cell_type": "code",
   "execution_count": 9,
   "metadata": {},
   "outputs": [],
   "source": [
    "from sklearn.ensemble import RandomForestClassifier"
   ]
  },
  {
   "cell_type": "code",
   "execution_count": 10,
   "metadata": {},
   "outputs": [],
   "source": [
    "from xgboost import XGBClassifier"
   ]
  },
  {
   "cell_type": "code",
   "execution_count": 11,
   "metadata": {},
   "outputs": [],
   "source": [
    "from sklearn.model_selection import RandomizedSearchCV"
   ]
  },
  {
   "cell_type": "code",
   "execution_count": 12,
   "metadata": {},
   "outputs": [],
   "source": [
    "from sklearn.model_selection import GridSearchCV"
   ]
  },
  {
   "cell_type": "code",
   "execution_count": 13,
   "metadata": {},
   "outputs": [],
   "source": [
    "from pprint import pprint"
   ]
  },
  {
   "cell_type": "markdown",
   "metadata": {},
   "source": [
    "### Data preprocess functions"
   ]
  },
  {
   "cell_type": "code",
   "execution_count": 14,
   "metadata": {},
   "outputs": [],
   "source": [
    "# function to convert strings and object types to number\n",
    "from sklearn import preprocessing\n",
    "\n",
    "def labelEncode(data, columns):\n",
    "    objectData = data[columns]\n",
    "    objectData = objectData.select_dtypes(exclude=['int64','float64']) # remove columns which are already a number \n",
    "    objectDataColumns = list(objectData)\n",
    "    le = preprocessing.LabelEncoder()\n",
    "    for column in objectDataColumns:\n",
    "        objectData[column] = le.fit_transform(objectData[column])\n",
    "    data.loc[objectData.index,objectData.columns] = objectData # merge to dataframe\n",
    "    return data"
   ]
  },
  {
   "cell_type": "code",
   "execution_count": 15,
   "metadata": {},
   "outputs": [],
   "source": [
    "# function to convert string to date time type for easy manipulation\n",
    "def toDateTime(data, columns):\n",
    "    for column in columns:\n",
    "        data[column] = pd.to_datetime(data[column],format='%Y-%m-%d %H:%M:%S')\n",
    "    return data"
   ]
  },
  {
   "cell_type": "code",
   "execution_count": 16,
   "metadata": {},
   "outputs": [],
   "source": [
    "# merge similar date columns to fill missing values\n",
    "def dateCorrMerge(data):\n",
    "    data.loc[data['reported_date'].isnull(),'reported_date'] = data['discovered_date']\n",
    "    data.loc[data['start_for_fire_date'].isnull(),'start_for_fire_date'] = data['reported_date']\n",
    "    data.loc[data['bh_fs_date'].isnull(),'bh_fs_date'] = data['start_for_fire_date']\n",
    "    data.loc[data['uc_fs_date'].isnull(),'ex_fs_date'] = data['bh_fs_date']\n",
    "    data.loc[data['ex_fs_date'].isnull(),'ex_fs_date'] = data['uc_fs_date']\n",
    "    return data"
   ]
  },
  {
   "cell_type": "code",
   "execution_count": 17,
   "metadata": {},
   "outputs": [],
   "source": [
    "def date2month(date):\n",
    "    return date.month\n",
    "\n",
    "def date2sec(date):\n",
    "    return date.total_seconds()\n",
    "\n",
    "# calc fire duration and month : substract extingush date from start date\n",
    "def fireDurMonth(data):\n",
    "    data['ex_fs_date'] = pd.to_datetime(data['ex_fs_date'],format='%Y-%m-%d %H:%M:%S')\n",
    "    data['start_for_fire_date'] = pd.to_datetime(data['start_for_fire_date'],format='%Y-%m-%d %H:%M:%S')\n",
    "    data['fire_duration'] = data['ex_fs_date'] - data['start_for_fire_date']\n",
    "    data['fire_month'] = data['start_for_fire_date']\n",
    "    data['fire_duration'] = data['fire_duration'].apply(date2sec)\n",
    "    data['fire_month'] = data['fire_month'].apply(date2month)\n",
    "    return data"
   ]
  },
  {
   "cell_type": "code",
   "execution_count": 18,
   "metadata": {},
   "outputs": [],
   "source": [
    "# oneHot Encode : split text column into numerical columns\n",
    "import category_encoders as ce\n",
    "\n",
    "def oneHotEncode(data, columns):\n",
    "    objectData = data[columns]\n",
    "    objectData = objectData.select_dtypes(exclude=['int64','float64']) # remove columns which are already a number\n",
    "    ohe = ce.OneHotEncoder(handle_unknown='value', use_cat_names=True)\n",
    "    objectData = ohe.fit_transform(objectData)\n",
    "    data = pd.merge(data, objectData, right_index=True, left_index=True)\n",
    "    data = data.drop(columns,axis=1)\n",
    "    return data"
   ]
  },
  {
   "cell_type": "code",
   "execution_count": 19,
   "metadata": {},
   "outputs": [],
   "source": [
    "# predict missing weather data to fill null spaces\n",
    "def fillUsingModel(data,val):\n",
    "    nulldata_X = data.loc[data[val[0]].isnull(),val[1]]\n",
    "    data_X = data.loc[data[val[0]].notnull(),val[1]]\n",
    "    data_Y = data.loc[data[val[0]].notnull(),[val[0]]]\n",
    "    nulldata_X = labelEncode(nulldata_X, val[1])\n",
    "    data_X = data_X.fillna('Unknown')\n",
    "    data_X = labelEncode(data_X, val[1])\n",
    "    tempModel = RandomForestClassifier(random_state=25)\n",
    "    tempModel.fit(data_X, data_Y)\n",
    "    data.loc[data[val[0]].isnull(),val[0]] = tempModel.predict(nulldata_X)\n",
    "    return data\n",
    "\n",
    "# Ex: fillUsingModel(data, {0:'fire_type',1:['general_cause_desc','fire_origin','activity_class']})"
   ]
  },
  {
   "cell_type": "code",
   "execution_count": 20,
   "metadata": {},
   "outputs": [],
   "source": [
    "# Standardization\n",
    "from sklearn.preprocessing import StandardScaler\n",
    "\n",
    "def standardizeData(data,columns):\n",
    "    # Get column names first\n",
    "    if not columns:\n",
    "        columns = data.columns\n",
    "    # Create the Scaler object\n",
    "    scaler = StandardScaler()\n",
    "    # Fit your data on the scaler object\n",
    "    scaled_data = scaler.fit_transform(data[columns])\n",
    "    data[columns] = pd.DataFrame(scaled_data, columns=columns)\n",
    "    return data\n",
    "\n",
    "# Ex: data = fillUsingModel(data,[]) - entire columns considered or specify needed columns "
   ]
  },
  {
   "cell_type": "code",
   "execution_count": 21,
   "metadata": {},
   "outputs": [],
   "source": [
    "# Principal component : Dimension reduction (input columns should be standardised)\n",
    "from sklearn.decomposition import PCA\n",
    "\n",
    "def pca(data,columnsIn,columnsOut,keepInput):\n",
    "    dimIn = len(columnsIn)\n",
    "    dimOut = len(columnsOut)\n",
    "    if not dimIn:\n",
    "        dimIn = len(data.columns)\n",
    "    pca = PCA(n_components=dimOut)\n",
    "    principalComponents = pca.fit_transform(data[columnsIn])\n",
    "    pcaData = pd.DataFrame(data=principalComponents, columns = columnsOut)\n",
    "    data = pd.concat([data, pcaData], axis=1)\n",
    "    if not keepInput:\n",
    "        data = data.drop(columnsIn,axis=1)\n",
    "    return data\n",
    "\n",
    "# Ex: pca(data,['fire_location_latitude','fire_location_longitude'],['combined'],0)"
   ]
  },
  {
   "cell_type": "code",
   "execution_count": 22,
   "metadata": {},
   "outputs": [],
   "source": [
    "# data preprocess main function\n",
    "def preprocess(data) :\n",
    "    data_processed = data\n",
    "    # first letter from fire_number : forest area in which the ignition area is located\n",
    "    data_processed['fire_number'] = data['fire_number'].astype(str).str[0]\n",
    "    # remove unwanted columns\n",
    "    data_processed = data_processed.drop(['fire_year','initial_action_by','fire_position_on_slope','assessment_datetime','fire_fighting_start_date','true_cause','det_agent_type','det_agent'],axis = 1)\n",
    "    # make date format correct\n",
    "    # data_processed = toDateTime(data_processed,['fire_start_date','discovered_date','reported_date','start_for_fire_date','bh_fs_date','uc_fs_date','ex_fs_date'])\n",
    "    # correct the missing dates from other columns\n",
    "    data_processed = dateCorrMerge(data_processed)\n",
    "    # process the dates to calc month & duration of fire\n",
    "    data_processed = fireDurMonth(data_processed)\n",
    "    # remove unwanted columns\n",
    "    data_processed = data_processed.drop(['fire_start_date','discovered_date','reported_date','bh_fs_date','uc_fs_date','ex_fs_date'],axis = 1)\n",
    "    # fill unknown values using model\n",
    "    data_processed = fillUsingModel(data_processed, {0:'fire_type',1:['general_cause_desc','fire_origin','activity_class']})\n",
    "    data_processed = fillUsingModel(data_processed, {0:'weather_conditions_over_fire',1:['fire_location_latitude','fire_location_longitude','fire_month']})\n",
    "    data_processed = fillUsingModel(data_processed, {0:'fire_origin',1:['fire_location_latitude','fire_type','general_cause_desc']})\n",
    "    data_processed = fillUsingModel(data_processed, {0:'fuel_type',1:['fire_location_latitude','fire_origin','fire_type','general_cause_desc']})\n",
    "    # remove unwanted columns\n",
    "    data_processed = data_processed.drop(['start_for_fire_date'],axis = 1) # ,'general_cause_desc','activity_class'\n",
    "    # make data to numeric/seperate column\n",
    "    # data_processed = oneHotEncode(data_processed,['fire_number','fire_origin','fire_type','weather_conditions_over_fire','fuel_type'])\n",
    "    # data_processed = labelEncode(data_processed,['fire_number','fire_origin','fire_type','weather_conditions_over_fire','fuel_type'])\n",
    "    data_processed = labelEncode(data_processed,['general_cause_desc','fuel_type','fire_origin','fire_number','activity_class','fire_type','weather_conditions_over_fire'])\n",
    "    # standardize data\n",
    "    data_processed = standardizeData(data_processed,[])\n",
    "    # dimension reduction\n",
    "    data_processed = pca(data_processed,['fire_type','fire_origin'],['fire_t_o'],0)\n",
    "    return data_processed"
   ]
  },
  {
   "cell_type": "markdown",
   "metadata": {},
   "source": [
    "### Data read"
   ]
  },
  {
   "cell_type": "code",
   "execution_count": 23,
   "metadata": {},
   "outputs": [],
   "source": [
    "train_data = pd.read_csv('train.csv')"
   ]
  },
  {
   "cell_type": "code",
   "execution_count": 24,
   "metadata": {},
   "outputs": [],
   "source": [
    "test_data_X = pd.read_csv('test.csv')"
   ]
  },
  {
   "cell_type": "code",
   "execution_count": 25,
   "metadata": {},
   "outputs": [],
   "source": [
    "train_data_Y = train_data['size_class'] # column to be predicted "
   ]
  },
  {
   "cell_type": "code",
   "execution_count": 26,
   "metadata": {},
   "outputs": [],
   "source": [
    "train_data_X = train_data.drop(columns = \"size_class\")"
   ]
  },
  {
   "cell_type": "markdown",
   "metadata": {},
   "source": [
    "### Preprocess"
   ]
  },
  {
   "cell_type": "code",
   "execution_count": 27,
   "metadata": {},
   "outputs": [
    {
     "name": "stderr",
     "output_type": "stream",
     "text": [
      "C:\\Users\\uib50578\\AppData\\Local\\Continuum\\anaconda2\\lib\\site-packages\\sklearn\\ensemble\\forest.py:246: FutureWarning: The default value of n_estimators will change from 10 in version 0.20 to 100 in 0.22.\n",
      "  \"10 in version 0.20 to 100 in 0.22.\", FutureWarning)\n",
      "C:\\Users\\uib50578\\AppData\\Local\\Continuum\\anaconda2\\lib\\site-packages\\ipykernel_launcher.py:10: DataConversionWarning: A column-vector y was passed when a 1d array was expected. Please change the shape of y to (n_samples,), for example using ravel().\n",
      "  # Remove the CWD from sys.path while we load stuff.\n",
      "C:\\Users\\uib50578\\AppData\\Local\\Continuum\\anaconda2\\lib\\site-packages\\sklearn\\preprocessing\\data.py:645: DataConversionWarning: Data with input dtype int32, int64, float64 were all converted to float64 by StandardScaler.\n",
      "  return self.partial_fit(X, y)\n",
      "C:\\Users\\uib50578\\AppData\\Local\\Continuum\\anaconda2\\lib\\site-packages\\sklearn\\base.py:464: DataConversionWarning: Data with input dtype int32, int64, float64 were all converted to float64 by StandardScaler.\n",
      "  return self.fit(X, **fit_params).transform(X)\n"
     ]
    }
   ],
   "source": [
    "train_data_X_processed = preprocess(train_data_X)"
   ]
  },
  {
   "cell_type": "code",
   "execution_count": 28,
   "metadata": {},
   "outputs": [
    {
     "data": {
      "text/html": [
       "<div>\n",
       "<style scoped>\n",
       "    .dataframe tbody tr th:only-of-type {\n",
       "        vertical-align: middle;\n",
       "    }\n",
       "\n",
       "    .dataframe tbody tr th {\n",
       "        vertical-align: top;\n",
       "    }\n",
       "\n",
       "    .dataframe thead th {\n",
       "        text-align: right;\n",
       "    }\n",
       "</style>\n",
       "<table border=\"1\" class=\"dataframe\">\n",
       "  <thead>\n",
       "    <tr style=\"text-align: right;\">\n",
       "      <th></th>\n",
       "      <th>fire_number</th>\n",
       "      <th>fire_location_latitude</th>\n",
       "      <th>fire_location_longitude</th>\n",
       "      <th>general_cause_desc</th>\n",
       "      <th>activity_class</th>\n",
       "      <th>weather_conditions_over_fire</th>\n",
       "      <th>fuel_type</th>\n",
       "      <th>fire_duration</th>\n",
       "      <th>fire_month</th>\n",
       "      <th>fire_t_o</th>\n",
       "    </tr>\n",
       "  </thead>\n",
       "  <tbody>\n",
       "    <tr>\n",
       "      <th>0</th>\n",
       "      <td>-1.385152</td>\n",
       "      <td>-1.339038</td>\n",
       "      <td>0.076026</td>\n",
       "      <td>0.863416</td>\n",
       "      <td>-0.017750</td>\n",
       "      <td>-0.302512</td>\n",
       "      <td>1.048201</td>\n",
       "      <td>-0.196263</td>\n",
       "      <td>0.416132</td>\n",
       "      <td>1.108799</td>\n",
       "    </tr>\n",
       "    <tr>\n",
       "      <th>1</th>\n",
       "      <td>-0.344748</td>\n",
       "      <td>0.918272</td>\n",
       "      <td>-0.604122</td>\n",
       "      <td>-0.826339</td>\n",
       "      <td>-0.881431</td>\n",
       "      <td>0.828789</td>\n",
       "      <td>-1.286151</td>\n",
       "      <td>-0.188972</td>\n",
       "      <td>-0.166827</td>\n",
       "      <td>-0.140906</td>\n",
       "    </tr>\n",
       "    <tr>\n",
       "      <th>2</th>\n",
       "      <td>-0.344748</td>\n",
       "      <td>1.289240</td>\n",
       "      <td>0.305581</td>\n",
       "      <td>-0.826339</td>\n",
       "      <td>-0.881431</td>\n",
       "      <td>-2.565113</td>\n",
       "      <td>-1.286151</td>\n",
       "      <td>-0.093824</td>\n",
       "      <td>-0.166827</td>\n",
       "      <td>-2.214929</td>\n",
       "    </tr>\n",
       "    <tr>\n",
       "      <th>3</th>\n",
       "      <td>-1.385152</td>\n",
       "      <td>-1.337764</td>\n",
       "      <td>0.075504</td>\n",
       "      <td>0.863416</td>\n",
       "      <td>-0.017750</td>\n",
       "      <td>0.828789</td>\n",
       "      <td>1.048201</td>\n",
       "      <td>-0.195855</td>\n",
       "      <td>-0.749787</td>\n",
       "      <td>1.108799</td>\n",
       "    </tr>\n",
       "    <tr>\n",
       "      <th>4</th>\n",
       "      <td>1.389259</td>\n",
       "      <td>0.345061</td>\n",
       "      <td>0.730122</td>\n",
       "      <td>1.145041</td>\n",
       "      <td>0.845932</td>\n",
       "      <td>-0.302512</td>\n",
       "      <td>-1.286151</td>\n",
       "      <td>-0.141602</td>\n",
       "      <td>-1.332746</td>\n",
       "      <td>-2.214929</td>\n",
       "    </tr>\n",
       "  </tbody>\n",
       "</table>\n",
       "</div>"
      ],
      "text/plain": [
       "   fire_number  fire_location_latitude  fire_location_longitude  \\\n",
       "0    -1.385152               -1.339038                 0.076026   \n",
       "1    -0.344748                0.918272                -0.604122   \n",
       "2    -0.344748                1.289240                 0.305581   \n",
       "3    -1.385152               -1.337764                 0.075504   \n",
       "4     1.389259                0.345061                 0.730122   \n",
       "\n",
       "   general_cause_desc  activity_class  weather_conditions_over_fire  \\\n",
       "0            0.863416       -0.017750                     -0.302512   \n",
       "1           -0.826339       -0.881431                      0.828789   \n",
       "2           -0.826339       -0.881431                     -2.565113   \n",
       "3            0.863416       -0.017750                      0.828789   \n",
       "4            1.145041        0.845932                     -0.302512   \n",
       "\n",
       "   fuel_type  fire_duration  fire_month  fire_t_o  \n",
       "0   1.048201      -0.196263    0.416132  1.108799  \n",
       "1  -1.286151      -0.188972   -0.166827 -0.140906  \n",
       "2  -1.286151      -0.093824   -0.166827 -2.214929  \n",
       "3   1.048201      -0.195855   -0.749787  1.108799  \n",
       "4  -1.286151      -0.141602   -1.332746 -2.214929  "
      ]
     },
     "execution_count": 28,
     "metadata": {},
     "output_type": "execute_result"
    }
   ],
   "source": [
    "train_data_X_processed.head()"
   ]
  },
  {
   "cell_type": "code",
   "execution_count": 29,
   "metadata": {},
   "outputs": [],
   "source": [
    "# save the processed data to csv (to save time)\n",
    "# train_data_X_processed.to_csv('trainProcessed.csv',index=False)\n",
    "# read already processed data\n",
    "# train_data_X_processed = pd.read_csv('trainProcessed.csv')"
   ]
  },
  {
   "cell_type": "code",
   "execution_count": 30,
   "metadata": {},
   "outputs": [
    {
     "data": {
      "text/plain": [
       "fire_number                     float64\n",
       "fire_location_latitude          float64\n",
       "fire_location_longitude         float64\n",
       "general_cause_desc              float64\n",
       "activity_class                  float64\n",
       "weather_conditions_over_fire    float64\n",
       "fuel_type                       float64\n",
       "fire_duration                   float64\n",
       "fire_month                      float64\n",
       "fire_t_o                        float64\n",
       "dtype: object"
      ]
     },
     "execution_count": 30,
     "metadata": {},
     "output_type": "execute_result"
    }
   ],
   "source": [
    "train_data_X_processed.dtypes"
   ]
  },
  {
   "cell_type": "code",
   "execution_count": 31,
   "metadata": {},
   "outputs": [],
   "source": [
    "# data split"
   ]
  },
  {
   "cell_type": "code",
   "execution_count": 32,
   "metadata": {},
   "outputs": [
    {
     "name": "stderr",
     "output_type": "stream",
     "text": [
      "C:\\Users\\uib50578\\AppData\\Local\\Continuum\\anaconda2\\lib\\site-packages\\sklearn\\model_selection\\_split.py:2179: FutureWarning: From version 0.21, test_size will always complement train_size unless both are specified.\n",
      "  FutureWarning)\n"
     ]
    }
   ],
   "source": [
    "train_data_X, validate_data_X, train_data_Y, validate_data_Y = train_test_split(train_data_X_processed, train_data_Y, train_size=0.75, random_state=25)"
   ]
  },
  {
   "cell_type": "markdown",
   "metadata": {},
   "source": [
    "### Model training and tuning"
   ]
  },
  {
   "cell_type": "code",
   "execution_count": 33,
   "metadata": {},
   "outputs": [],
   "source": [
    "# model = DecisionTreeClassifier(random_state=25)\n",
    "model = RandomForestClassifier(n_estimators=100, random_state=25)\n",
    "# model = XGBClassifier(random_state=25, n_estimators=150, max_depth=5)"
   ]
  },
  {
   "cell_type": "markdown",
   "metadata": {},
   "source": [
    "Hyperparameter Tuning"
   ]
  },
  {
   "cell_type": "code",
   "execution_count": 20,
   "metadata": {},
   "outputs": [
    {
     "name": "stdout",
     "output_type": "stream",
     "text": [
      "{'bootstrap': True,\n",
      " 'class_weight': None,\n",
      " 'criterion': 'gini',\n",
      " 'max_depth': None,\n",
      " 'max_features': 'auto',\n",
      " 'max_leaf_nodes': None,\n",
      " 'min_impurity_decrease': 0.0,\n",
      " 'min_impurity_split': None,\n",
      " 'min_samples_leaf': 1,\n",
      " 'min_samples_split': 2,\n",
      " 'min_weight_fraction_leaf': 0.0,\n",
      " 'n_estimators': 100,\n",
      " 'n_jobs': None,\n",
      " 'oob_score': False,\n",
      " 'random_state': 25,\n",
      " 'verbose': 0,\n",
      " 'warm_start': False}\n"
     ]
    }
   ],
   "source": [
    "# Parameters currently in use :\n",
    "pprint(model.get_params())"
   ]
  },
  {
   "cell_type": "code",
   "execution_count": 23,
   "metadata": {},
   "outputs": [],
   "source": [
    "# Parameter grid for XGBoost\n",
    "# params_grid = {\n",
    "#         'base_score': [0.1, 0.2, 0.3],\n",
    "#         'min_child_weight': [0.9, 1],\n",
    "#         'gamma': [1, 1.2],\n",
    "#         'subsample': [0.5, 0.6],\n",
    "#         'colsample_bytree': [0.5, 0.6],\n",
    "#         'n_estimators': [120, 150, 170],\n",
    "#         'max_depth': [5]\n",
    "#         }\n",
    "\n",
    "# Parameter grid for random forest\n",
    "params_grid = {\n",
    "        'bootstrap': [True],\n",
    "        'max_depth': [28, 30, 32],\n",
    "        'max_features': ['auto'],\n",
    "        'min_samples_leaf': [1],\n",
    "        'min_samples_split': [8, 10],\n",
    "        'n_estimators': [1520, 1600, 1680]\n",
    "        }"
   ]
  },
  {
   "cell_type": "markdown",
   "metadata": {},
   "source": [
    "Random search"
   ]
  },
  {
   "cell_type": "code",
   "execution_count": 22,
   "metadata": {},
   "outputs": [
    {
     "name": "stdout",
     "output_type": "stream",
     "text": [
      "Fitting 3 folds for each of 200 candidates, totalling 600 fits\n"
     ]
    },
    {
     "name": "stderr",
     "output_type": "stream",
     "text": [
      "[Parallel(n_jobs=-1)]: Using backend LokyBackend with 8 concurrent workers.\n",
      "[Parallel(n_jobs=-1)]: Done  25 tasks      | elapsed:  1.7min\n",
      "[Parallel(n_jobs=-1)]: Done 146 tasks      | elapsed: 14.9min\n",
      "[Parallel(n_jobs=-1)]: Done 349 tasks      | elapsed: 566.3min\n",
      "[Parallel(n_jobs=-1)]: Done 600 out of 600 | elapsed: 590.4min finished\n"
     ]
    },
    {
     "name": "stdout",
     "output_type": "stream",
     "text": [
      "{'bootstrap': True,\n",
      " 'max_depth': 30,\n",
      " 'max_features': 'auto',\n",
      " 'min_samples_leaf': 1,\n",
      " 'min_samples_split': 10,\n",
      " 'n_estimators': 1600}\n",
      "('Macro-F1 Score :', 0.5658184785767804, '(+/- 0.05)')\n"
     ]
    }
   ],
   "source": [
    "# Random search of parameters\n",
    "random_search = RandomizedSearchCV(estimator=model, param_distributions=params_grid, n_iter=200, cv=3, verbose=2, random_state=25, n_jobs=-1)\n",
    "# Fit the random search model\n",
    "random_search.fit(train_data_X, train_data_Y)\n",
    "# Best param after fitting\n",
    "pprint(random_search.best_params_)\n",
    "# Evaluate Random Search\n",
    "model = random_search.best_estimator_\n",
    "# 5-Fold Cross validation\n",
    "cv_scores = cross_val_score(model, train_data_X, train_data_Y, cv=5, scoring='f1_macro')\n",
    "print(\"Macro-F1 Score :\", np.mean(cv_scores), \"(+/- %0.2f)\" % (cv_scores.std() * 2))"
   ]
  },
  {
   "cell_type": "markdown",
   "metadata": {},
   "source": [
    "Grid search"
   ]
  },
  {
   "cell_type": "code",
   "execution_count": 24,
   "metadata": {},
   "outputs": [
    {
     "name": "stdout",
     "output_type": "stream",
     "text": [
      "Fitting 5 folds for each of 18 candidates, totalling 90 fits\n"
     ]
    },
    {
     "name": "stderr",
     "output_type": "stream",
     "text": [
      "[Parallel(n_jobs=-1)]: Using backend LokyBackend with 8 concurrent workers.\n",
      "[Parallel(n_jobs=-1)]: Done  25 tasks      | elapsed:  3.5min\n",
      "[Parallel(n_jobs=-1)]: Done  90 out of  90 | elapsed:  9.7min finished\n"
     ]
    },
    {
     "name": "stdout",
     "output_type": "stream",
     "text": [
      "{'bootstrap': True,\n",
      " 'max_depth': 30,\n",
      " 'max_features': 'auto',\n",
      " 'min_samples_leaf': 1,\n",
      " 'min_samples_split': 10,\n",
      " 'n_estimators': 1680}\n",
      "('Macro-F1 Score :', 0.567039865737865, '(+/- 0.05)')\n"
     ]
    }
   ],
   "source": [
    "# Grid search of parameters for model\n",
    "grid_search = GridSearchCV(estimator=model, param_grid=params_grid, cv=5, verbose=2, n_jobs=-1)\n",
    "# Fit the grid search to the data\n",
    "grid_search.fit(train_data_X, train_data_Y)\n",
    "# Best param after fitting\n",
    "pprint(grid_search.best_params_)\n",
    "# Evaluate best grid search model\n",
    "model = grid_search.best_estimator_\n",
    "# 5-Fold Cross validation\n",
    "cv_scores = cross_val_score(model, train_data_X, train_data_Y, cv=5, scoring='f1_macro')\n",
    "print(\"Macro-F1 Score :\", np.mean(cv_scores), \"(+/- %0.2f)\" % (cv_scores.std() * 2))"
   ]
  },
  {
   "cell_type": "code",
   "execution_count": 33,
   "metadata": {},
   "outputs": [],
   "source": [
    "# model = RandomForestClassifier(bootstrap=True, class_weight=None, criterion='gini',\n",
    "#             max_depth=30, max_features='auto', max_leaf_nodes=None,\n",
    "#             min_impurity_decrease=0.0, min_impurity_split=None,\n",
    "#             min_samples_leaf=1, min_samples_split=10,\n",
    "#             min_weight_fraction_leaf=0.0, n_estimators=1680, n_jobs=None,\n",
    "#             oob_score=False, random_state=25, verbose=0, warm_start=False)"
   ]
  },
  {
   "cell_type": "code",
   "execution_count": 34,
   "metadata": {},
   "outputs": [
    {
     "data": {
      "text/plain": [
       "RandomForestClassifier(bootstrap=True, class_weight=None, criterion='gini',\n",
       "            max_depth=None, max_features='auto', max_leaf_nodes=None,\n",
       "            min_impurity_decrease=0.0, min_impurity_split=None,\n",
       "            min_samples_leaf=1, min_samples_split=2,\n",
       "            min_weight_fraction_leaf=0.0, n_estimators=100, n_jobs=None,\n",
       "            oob_score=False, random_state=25, verbose=0, warm_start=False)"
      ]
     },
     "execution_count": 34,
     "metadata": {},
     "output_type": "execute_result"
    }
   ],
   "source": [
    "model.fit(train_data_X, train_data_Y)"
   ]
  },
  {
   "cell_type": "markdown",
   "metadata": {},
   "source": [
    "predict validation data"
   ]
  },
  {
   "cell_type": "code",
   "execution_count": 35,
   "metadata": {},
   "outputs": [],
   "source": [
    "pred_validate_data_Y = model.predict(validate_data_X)"
   ]
  },
  {
   "cell_type": "markdown",
   "metadata": {},
   "source": [
    "### Evaluation"
   ]
  },
  {
   "cell_type": "code",
   "execution_count": 36,
   "metadata": {},
   "outputs": [
    {
     "name": "stdout",
     "output_type": "stream",
     "text": [
      "('Validation accuracy score:', 0.7500629881582263)\n"
     ]
    }
   ],
   "source": [
    "print('Validation accuracy score:', accuracy_score(validate_data_Y, pred_validate_data_Y))"
   ]
  },
  {
   "cell_type": "code",
   "execution_count": 37,
   "metadata": {},
   "outputs": [
    {
     "name": "stdout",
     "output_type": "stream",
     "text": [
      "('Macro F1-score:', 0.5100786965784527)\n"
     ]
    }
   ],
   "source": [
    "print('Macro F1-score:', f1_score(validate_data_Y, pred_validate_data_Y, average='macro'))"
   ]
  },
  {
   "cell_type": "markdown",
   "metadata": {},
   "source": [
    "Cross Validation"
   ]
  },
  {
   "cell_type": "code",
   "execution_count": 38,
   "metadata": {},
   "outputs": [
    {
     "name": "stdout",
     "output_type": "stream",
     "text": [
      "('Macro-F1 Score :', 0.5269811969309941, '(+/- 0.05)')\n"
     ]
    }
   ],
   "source": [
    "# 5-Fold Cross validation\n",
    "cv_scores = cross_val_score(model, train_data_X, train_data_Y, cv=5, scoring='f1_macro')\n",
    "print(\"Macro-F1 Score :\", np.mean(cv_scores), \"(+/- %0.2f)\" % (cv_scores.std() * 2))"
   ]
  },
  {
   "cell_type": "code",
   "execution_count": 39,
   "metadata": {},
   "outputs": [],
   "source": [
    "# re-train model on all train data"
   ]
  },
  {
   "cell_type": "code",
   "execution_count": 40,
   "metadata": {},
   "outputs": [],
   "source": [
    "train_data_X = train_data_X_processed\n",
    "train_data_Y = train_data['size_class'] # column to be predicted "
   ]
  },
  {
   "cell_type": "code",
   "execution_count": 41,
   "metadata": {},
   "outputs": [
    {
     "data": {
      "text/plain": [
       "RandomForestClassifier(bootstrap=True, class_weight=None, criterion='gini',\n",
       "            max_depth=None, max_features='auto', max_leaf_nodes=None,\n",
       "            min_impurity_decrease=0.0, min_impurity_split=None,\n",
       "            min_samples_leaf=1, min_samples_split=2,\n",
       "            min_weight_fraction_leaf=0.0, n_estimators=100, n_jobs=None,\n",
       "            oob_score=False, random_state=25, verbose=0, warm_start=False)"
      ]
     },
     "execution_count": 41,
     "metadata": {},
     "output_type": "execute_result"
    }
   ],
   "source": [
    "model.fit(train_data_X, train_data_Y)"
   ]
  },
  {
   "cell_type": "markdown",
   "metadata": {},
   "source": [
    "Feature importance"
   ]
  },
  {
   "cell_type": "code",
   "execution_count": 42,
   "metadata": {},
   "outputs": [
    {
     "data": {
      "text/html": [
       "<div>\n",
       "<style scoped>\n",
       "    .dataframe tbody tr th:only-of-type {\n",
       "        vertical-align: middle;\n",
       "    }\n",
       "\n",
       "    .dataframe tbody tr th {\n",
       "        vertical-align: top;\n",
       "    }\n",
       "\n",
       "    .dataframe thead th {\n",
       "        text-align: right;\n",
       "    }\n",
       "</style>\n",
       "<table border=\"1\" class=\"dataframe\">\n",
       "  <thead>\n",
       "    <tr style=\"text-align: right;\">\n",
       "      <th></th>\n",
       "      <th>Importance</th>\n",
       "    </tr>\n",
       "    <tr>\n",
       "      <th>Feature</th>\n",
       "      <th></th>\n",
       "    </tr>\n",
       "  </thead>\n",
       "  <tbody>\n",
       "    <tr>\n",
       "      <th>fire_duration</th>\n",
       "      <td>0.311379</td>\n",
       "    </tr>\n",
       "    <tr>\n",
       "      <th>fire_location_latitude</th>\n",
       "      <td>0.182602</td>\n",
       "    </tr>\n",
       "    <tr>\n",
       "      <th>fire_location_longitude</th>\n",
       "      <td>0.146943</td>\n",
       "    </tr>\n",
       "    <tr>\n",
       "      <th>fire_month</th>\n",
       "      <td>0.065316</td>\n",
       "    </tr>\n",
       "    <tr>\n",
       "      <th>fire_t_o</th>\n",
       "      <td>0.055305</td>\n",
       "    </tr>\n",
       "    <tr>\n",
       "      <th>activity_class</th>\n",
       "      <td>0.055055</td>\n",
       "    </tr>\n",
       "    <tr>\n",
       "      <th>fuel_type</th>\n",
       "      <td>0.053473</td>\n",
       "    </tr>\n",
       "    <tr>\n",
       "      <th>fire_number</th>\n",
       "      <td>0.045688</td>\n",
       "    </tr>\n",
       "    <tr>\n",
       "      <th>general_cause_desc</th>\n",
       "      <td>0.042347</td>\n",
       "    </tr>\n",
       "    <tr>\n",
       "      <th>weather_conditions_over_fire</th>\n",
       "      <td>0.041893</td>\n",
       "    </tr>\n",
       "  </tbody>\n",
       "</table>\n",
       "</div>"
      ],
      "text/plain": [
       "                              Importance\n",
       "Feature                                 \n",
       "fire_duration                   0.311379\n",
       "fire_location_latitude          0.182602\n",
       "fire_location_longitude         0.146943\n",
       "fire_month                      0.065316\n",
       "fire_t_o                        0.055305\n",
       "activity_class                  0.055055\n",
       "fuel_type                       0.053473\n",
       "fire_number                     0.045688\n",
       "general_cause_desc              0.042347\n",
       "weather_conditions_over_fire    0.041893"
      ]
     },
     "execution_count": 42,
     "metadata": {},
     "output_type": "execute_result"
    }
   ],
   "source": [
    "importance = pd.DataFrame()\n",
    "importance['Feature'] = train_data_X.columns\n",
    "importance['Importance'] = model.feature_importances_\n",
    "importance.set_index('Feature', inplace=True)\n",
    "\n",
    "importance.sort_values(by='Importance', ascending=False)"
   ]
  },
  {
   "cell_type": "markdown",
   "metadata": {},
   "source": [
    "Confusion Matrix"
   ]
  },
  {
   "cell_type": "code",
   "execution_count": 43,
   "metadata": {},
   "outputs": [
    {
     "data": {
      "image/png": "[encoded data removed]",
      "text/plain": [
       "<Figure size 432x288 with 2 Axes>"
      ]
     },
     "metadata": {
      "needs_background": "light"
     },
     "output_type": "display_data"
    }
   ],
   "source": [
    "# Using seaborn: (plot_confusion_matrix has some version issues)\n",
    "import seaborn as sn\n",
    "confusion_matrix = pd.crosstab(validate_data_Y, pred_validate_data_Y, rownames=['Actual'], colnames=['Predicted'])\n",
    "sn.heatmap(confusion_matrix, annot=True)\n",
    "plt.show()"
   ]
  },
  {
   "cell_type": "markdown",
   "metadata": {},
   "source": [
    "### Predict on Test dataset"
   ]
  },
  {
   "cell_type": "code",
   "execution_count": 44,
   "metadata": {},
   "outputs": [],
   "source": [
    "pred_test_data_Y = pd.DataFrame()\n",
    "pred_test_data_Y['fire_number'] = test_data_X['fire_number']"
   ]
  },
  {
   "cell_type": "code",
   "execution_count": 45,
   "metadata": {},
   "outputs": [
    {
     "name": "stderr",
     "output_type": "stream",
     "text": [
      "C:\\Users\\uib50578\\AppData\\Local\\Continuum\\anaconda2\\lib\\site-packages\\ipykernel_launcher.py:10: DataConversionWarning: A column-vector y was passed when a 1d array was expected. Please change the shape of y to (n_samples,), for example using ravel().\n",
      "  # Remove the CWD from sys.path while we load stuff.\n"
     ]
    }
   ],
   "source": [
    "test_data_X = preprocess(test_data_X)"
   ]
  },
  {
   "cell_type": "code",
   "execution_count": 46,
   "metadata": {},
   "outputs": [],
   "source": [
    "# save the processed data to csv (to save time)\n",
    "# test_data_X.to_csv('testProcessed.csv',index=False)\n",
    "# read already processed data\n",
    "# test_data_X = pd.read_csv('testProcessed.csv')"
   ]
  },
  {
   "cell_type": "code",
   "execution_count": 47,
   "metadata": {},
   "outputs": [
    {
     "data": {
      "text/plain": [
       "fire_number                     float64\n",
       "fire_location_latitude          float64\n",
       "fire_location_longitude         float64\n",
       "general_cause_desc              float64\n",
       "activity_class                  float64\n",
       "weather_conditions_over_fire    float64\n",
       "fuel_type                       float64\n",
       "fire_duration                   float64\n",
       "fire_month                      float64\n",
       "fire_t_o                        float64\n",
       "dtype: object"
      ]
     },
     "execution_count": 47,
     "metadata": {},
     "output_type": "execute_result"
    }
   ],
   "source": [
    "test_data_X.dtypes"
   ]
  },
  {
   "cell_type": "code",
   "execution_count": 48,
   "metadata": {},
   "outputs": [],
   "source": [
    "pred_test_data_Y['size_class'] = model.predict(test_data_X)"
   ]
  },
  {
   "cell_type": "code",
   "execution_count": 49,
   "metadata": {},
   "outputs": [
    {
     "data": {
      "text/plain": [
       "(3969, 2)"
      ]
     },
     "execution_count": 49,
     "metadata": {},
     "output_type": "execute_result"
    }
   ],
   "source": [
    "pred_test_data_Y.shape"
   ]
  }
 ],
 "metadata": {
  "kernelspec": {
   "display_name": "Python 2",
   "language": "python",
   "name": "python2"
  },
  "language_info": {
   "codemirror_mode": {
    "name": "ipython",
    "version": 2
   },
   "file_extension": ".py",
   "mimetype": "text/x-python",
   "name": "python",
   "nbconvert_exporter": "python",
   "pygments_lexer": "ipython2",
   "version": "2.7.16"
  }
 },
 "nbformat": 4,
 "nbformat_minor": 2
}
