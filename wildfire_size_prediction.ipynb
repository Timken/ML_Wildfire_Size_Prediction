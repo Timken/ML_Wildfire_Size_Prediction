{
 "cells": [
  {
   "cell_type": "markdown",
   "metadata": {},
   "source": [
    "### Imports"
   ]
  },
  {
   "cell_type": "code",
   "execution_count": 1,
   "metadata": {},
   "outputs": [],
   "source": [
    "import pandas as pd"
   ]
  },
  {
   "cell_type": "code",
   "execution_count": 2,
   "metadata": {},
   "outputs": [],
   "source": [
    "import numpy as np"
   ]
  },
  {
   "cell_type": "code",
   "execution_count": 3,
   "metadata": {},
   "outputs": [],
   "source": [
    "import category_encoders as ce"
   ]
  },
  {
   "cell_type": "code",
   "execution_count": 4,
   "metadata": {},
   "outputs": [],
   "source": [
    "import matplotlib.pyplot as plt"
   ]
  },
  {
   "cell_type": "code",
   "execution_count": 5,
   "metadata": {},
   "outputs": [],
   "source": [
    "from sklearn.tree import DecisionTreeClassifier"
   ]
  },
  {
   "cell_type": "code",
   "execution_count": 24,
   "metadata": {},
   "outputs": [],
   "source": [
    "from sklearn.ensemble import RandomForestClassifier"
   ]
  },
  {
   "cell_type": "code",
   "execution_count": 6,
   "metadata": {},
   "outputs": [],
   "source": [
    "from sklearn.metrics import accuracy_score"
   ]
  },
  {
   "cell_type": "code",
   "execution_count": 7,
   "metadata": {},
   "outputs": [],
   "source": [
    "from sklearn.metrics import f1_score"
   ]
  },
  {
   "cell_type": "code",
   "execution_count": 8,
   "metadata": {},
   "outputs": [],
   "source": [
    "from sklearn.model_selection import cross_val_score"
   ]
  },
  {
   "cell_type": "code",
   "execution_count": 9,
   "metadata": {},
   "outputs": [],
   "source": [
    "from sklearn.model_selection import train_test_split"
   ]
  },
  {
   "cell_type": "code",
   "execution_count": 10,
   "metadata": {},
   "outputs": [],
   "source": [
    "from sklearn import preprocessing"
   ]
  },
  {
   "cell_type": "code",
   "execution_count": 11,
   "metadata": {},
   "outputs": [],
   "source": [
    "from datetime import datetime"
   ]
  },
  {
   "cell_type": "markdown",
   "metadata": {},
   "source": [
    "### Data preprocess functions"
   ]
  },
  {
   "cell_type": "code",
   "execution_count": 12,
   "metadata": {},
   "outputs": [],
   "source": [
    "# function to convert strings and object types to number\n",
    "def labelEncode(data, columns):\n",
    "    objectData = data[columns]\n",
    "    objectData = objectData.select_dtypes(exclude=['int64','float64']) # remove columns which are already a number \n",
    "    objectDataColumns = list(objectData)\n",
    "    le = preprocessing.LabelEncoder()\n",
    "    for column in objectDataColumns:\n",
    "        objectData[column] = le.fit_transform(objectData[column])\n",
    "    data.loc[objectData.index,objectData.columns] = objectData # merge to dataframe\n",
    "    return data"
   ]
  },
  {
   "cell_type": "code",
   "execution_count": 13,
   "metadata": {},
   "outputs": [],
   "source": [
    "# function to convert string to date time type for easy manipulation\n",
    "def toDateTime(data, columns):\n",
    "    for column in columns:\n",
    "        date_data = data[column]\n",
    "        date_data = date_data.fillna('0001-01-01 00:00:00') # str\n",
    "        for i,items in date_data.iteritems():\n",
    "            date_data[i] = datetime.strptime(items, '%Y-%m-%d %H:%M:%S')\n",
    "        data.loc[date_data.index, date_data.name] = date_data # merge to dataframe\n",
    "    return data"
   ]
  },
  {
   "cell_type": "code",
   "execution_count": 14,
   "metadata": {},
   "outputs": [],
   "source": [
    "# merge similar date columns to fill missing values\n",
    "def dateCorrMerge(data):\n",
    "    checkDate = datetime(1, 1, 1) # value filled for NaN while converting to datetime \n",
    "    for ind in data.index: \n",
    "        if data['reported_date'][ind] == checkDate:\n",
    "            if data['fire_start_date'][ind] != checkDate:\n",
    "                data['reported_date'][ind] = data['fire_start_date'][ind]\n",
    "            elif dateData['discovered_date'][ind] != checkDate:\n",
    "                data['reported_date'][ind] = data['discovered_date'][ind]\n",
    "            else:\n",
    "                data['reported_date'][ind] = data['start_for_fire_date'][ind]\n",
    "        if data['ex_fs_date'][ind] == checkDate:\n",
    "            if data['uc_fs_date'][ind] != checkDate:\n",
    "                data['ex_fs_date'][ind] = data['uc_fs_date'][ind]\n",
    "            else:\n",
    "                data['ex_fs_date'][ind] = data['bh_fs_date'][ind]\n",
    "    data_processed = data.drop(['fire_start_date','discovered_date','start_for_fire_date','uc_fs_date','bh_fs_date'],axis = 1)\n",
    "    return data_processed"
   ]
  },
  {
   "cell_type": "code",
   "execution_count": 15,
   "metadata": {},
   "outputs": [],
   "source": [
    "# calc fire duration and month : substract extingush date from report date\n",
    "def fireDurMonth(data):\n",
    "    data_processed = data \n",
    "    data_processed['fire_duration'] = data['ex_fs_date'] - data['reported_date']\n",
    "    data_processed['reported_month'] = data['reported_date']\n",
    "    for ind in data_processed.index:\n",
    "        data_processed['reported_month'][ind] = int(data_processed['reported_date'][ind].month)\n",
    "        data_processed['fire_duration'][ind] = long(data_processed['fire_duration'][ind].total_seconds())\n",
    "    data_processed = data_processed.drop(['ex_fs_date','reported_date'],axis = 1)\n",
    "    return data_processed"
   ]
  },
  {
   "cell_type": "code",
   "execution_count": 16,
   "metadata": {},
   "outputs": [],
   "source": [
    "# oneHot Encode : split text column into numerical columns\n",
    "import category_encoders as ce\n",
    "\n",
    "def oneHotEncode(data, columns):\n",
    "    objectData = data[columns]\n",
    "    objectData = objectData.select_dtypes(exclude=['int64','float64']) # remove columns which are already a number\n",
    "    ohe = ce.OneHotEncoder(handle_unknown='value', use_cat_names=True)\n",
    "    objectData = ohe.fit_transform(objectData)\n",
    "    data = pd.merge(data, objectData, right_index=True, left_index=True)\n",
    "    data = data.drop(columns,axis=1)\n",
    "    return data"
   ]
  },
  {
   "cell_type": "code",
   "execution_count": 17,
   "metadata": {},
   "outputs": [],
   "source": [
    "# data preprocess main function\n",
    "def preprocess(data) :\n",
    "    data_processed = data\n",
    "    # first letter from fire_number : forest area in which the ignition area is located\n",
    "    data_processed['fire_number'] = data_processed['fire_number'].astype(str).str[0]\n",
    "    # remove unwanted columns\n",
    "    data_processed = data_processed.drop(['fire_year','initial_action_by','fire_position_on_slope','assessment_datetime','fire_fighting_start_date','true_cause','det_agent_type','det_agent'],axis = 1)\n",
    "    # make date format correct\n",
    "    data_processed = toDateTime(data_processed,['fire_start_date','discovered_date','reported_date','start_for_fire_date','bh_fs_date','uc_fs_date','ex_fs_date'])\n",
    "    # process the dates to calc month & duration of fire\n",
    "    data_processed = dateCorrMerge(data_processed)\n",
    "    data_processed = fireDurMonth(data_processed)\n",
    "    # make data to numeric/seperate column\n",
    "    # data_processed = oneHotEncode(data_processed,['general_cause_desc','fuel_type','fire_position_on_slope'])\n",
    "    data_processed = labelEncode(data_processed,['general_cause_desc','fuel_type','fire_origin','fire_number','activity_class','fire_type','weather_conditions_over_fire'])\n",
    "    return data_processed"
   ]
  },
  {
   "cell_type": "markdown",
   "metadata": {},
   "source": [
    "### Data read"
   ]
  },
  {
   "cell_type": "code",
   "execution_count": 18,
   "metadata": {},
   "outputs": [],
   "source": [
    "train_data = pd.read_csv('train.csv')"
   ]
  },
  {
   "cell_type": "code",
   "execution_count": 19,
   "metadata": {},
   "outputs": [],
   "source": [
    "test_data_X = pd.read_csv('test.csv')"
   ]
  },
  {
   "cell_type": "code",
   "execution_count": 20,
   "metadata": {},
   "outputs": [],
   "source": [
    "train_data_Y = train_data['size_class'] # column to be predicted "
   ]
  },
  {
   "cell_type": "code",
   "execution_count": 21,
   "metadata": {},
   "outputs": [],
   "source": [
    "train_data_X = train_data.drop(columns = \"size_class\")"
   ]
  },
  {
   "cell_type": "markdown",
   "metadata": {},
   "source": [
    "### Preprocess"
   ]
  },
  {
   "cell_type": "code",
   "execution_count": 22,
   "metadata": {},
   "outputs": [
    {
     "name": "stderr",
     "output_type": "stream",
     "text": [
      "C:\\Users\\uib50578\\AppData\\Local\\Continuum\\anaconda2\\lib\\site-packages\\ipykernel_launcher.py:7: SettingWithCopyWarning: \n",
      "A value is trying to be set on a copy of a slice from a DataFrame\n",
      "\n",
      "See the caveats in the documentation: http://pandas.pydata.org/pandas-docs/stable/indexing.html#indexing-view-versus-copy\n",
      "  import sys\n",
      "C:\\Users\\uib50578\\AppData\\Local\\Continuum\\anaconda2\\lib\\site-packages\\ipykernel_launcher.py:8: SettingWithCopyWarning: \n",
      "A value is trying to be set on a copy of a slice from a DataFrame\n",
      "\n",
      "See the caveats in the documentation: http://pandas.pydata.org/pandas-docs/stable/indexing.html#indexing-view-versus-copy\n",
      "  \n",
      "C:\\Users\\uib50578\\AppData\\Local\\Continuum\\anaconda2\\lib\\site-packages\\pandas\\core\\indexing.py:190: SettingWithCopyWarning: \n",
      "A value is trying to be set on a copy of a slice from a DataFrame\n",
      "\n",
      "See the caveats in the documentation: http://pandas.pydata.org/pandas-docs/stable/indexing.html#indexing-view-versus-copy\n",
      "  self._setitem_with_indexer(indexer, value)\n"
     ]
    }
   ],
   "source": [
    "train_data_X_processed = preprocess(train_data_X)"
   ]
  },
  {
   "cell_type": "code",
   "execution_count": 23,
   "metadata": {},
   "outputs": [
    {
     "data": {
      "text/plain": [
       "fire_number                       int32\n",
       "fire_location_latitude          float64\n",
       "fire_location_longitude         float64\n",
       "fire_origin                       int32\n",
       "general_cause_desc                int32\n",
       "activity_class                    int32\n",
       "fire_type                         int32\n",
       "weather_conditions_over_fire      int32\n",
       "fuel_type                         int32\n",
       "fire_duration                    object\n",
       "reported_month                   object\n",
       "dtype: object"
      ]
     },
     "execution_count": 23,
     "metadata": {},
     "output_type": "execute_result"
    }
   ],
   "source": [
    "train_data_X_processed.dtypes"
   ]
  },
  {
   "cell_type": "code",
   "execution_count": 25,
   "metadata": {},
   "outputs": [],
   "source": [
    "# data split"
   ]
  },
  {
   "cell_type": "code",
   "execution_count": 26,
   "metadata": {},
   "outputs": [
    {
     "name": "stderr",
     "output_type": "stream",
     "text": [
      "C:\\Users\\uib50578\\AppData\\Local\\Continuum\\anaconda2\\lib\\site-packages\\sklearn\\model_selection\\_split.py:2179: FutureWarning: From version 0.21, test_size will always complement train_size unless both are specified.\n",
      "  FutureWarning)\n"
     ]
    }
   ],
   "source": [
    "train_data_X, validate_data_X, train_data_Y, validate_data_Y = train_test_split(train_data_X_processed, train_data_Y, train_size=0.75, random_state=25)"
   ]
  },
  {
   "cell_type": "code",
   "execution_count": 27,
   "metadata": {},
   "outputs": [],
   "source": [
    "# model training"
   ]
  },
  {
   "cell_type": "code",
   "execution_count": 28,
   "metadata": {},
   "outputs": [],
   "source": [
    "# model = DecisionTreeClassifier(random_state=25)\n",
    "model = RandomForestClassifier(n_estimators=100, random_state=25)"
   ]
  },
  {
   "cell_type": "code",
   "execution_count": 29,
   "metadata": {},
   "outputs": [
    {
     "data": {
      "text/plain": [
       "RandomForestClassifier(bootstrap=True, class_weight=None, criterion='gini',\n",
       "            max_depth=None, max_features='auto', max_leaf_nodes=None,\n",
       "            min_impurity_decrease=0.0, min_impurity_split=None,\n",
       "            min_samples_leaf=1, min_samples_split=2,\n",
       "            min_weight_fraction_leaf=0.0, n_estimators=100, n_jobs=None,\n",
       "            oob_score=False, random_state=25, verbose=0, warm_start=False)"
      ]
     },
     "execution_count": 29,
     "metadata": {},
     "output_type": "execute_result"
    }
   ],
   "source": [
    "model.fit(train_data_X, train_data_Y)"
   ]
  },
  {
   "cell_type": "code",
   "execution_count": 30,
   "metadata": {},
   "outputs": [],
   "source": [
    "# predict validation data"
   ]
  },
  {
   "cell_type": "code",
   "execution_count": 33,
   "metadata": {},
   "outputs": [],
   "source": [
    "pred_validate_data_Y = model.predict(validate_data_X)"
   ]
  },
  {
   "cell_type": "markdown",
   "metadata": {},
   "source": [
    "### Evaluation"
   ]
  },
  {
   "cell_type": "code",
   "execution_count": 34,
   "metadata": {},
   "outputs": [
    {
     "name": "stdout",
     "output_type": "stream",
     "text": [
      "('Validation accuracy score:', 0.7621567145376669)\n"
     ]
    }
   ],
   "source": [
    "print('Validation accuracy score:', accuracy_score(validate_data_Y, pred_validate_data_Y))"
   ]
  },
  {
   "cell_type": "code",
   "execution_count": 35,
   "metadata": {},
   "outputs": [
    {
     "name": "stdout",
     "output_type": "stream",
     "text": [
      "('Macro F1-score:', 0.5425913640716026)\n"
     ]
    }
   ],
   "source": [
    "print('Macro F1-score:', f1_score(validate_data_Y, pred_validate_data_Y, average='macro'))"
   ]
  },
  {
   "cell_type": "markdown",
   "metadata": {},
   "source": [
    "Cross Validation"
   ]
  },
  {
   "cell_type": "code",
   "execution_count": 36,
   "metadata": {},
   "outputs": [
    {
     "name": "stdout",
     "output_type": "stream",
     "text": [
      "('Macro-F1 Score :', 0.5270516080040333, '(+/- 0.05)')\n"
     ]
    }
   ],
   "source": [
    "# 5-Fold Cross validation\n",
    "cv_scores = cross_val_score(model, train_data_X, train_data_Y, cv=5, scoring='f1_macro')\n",
    "print(\"Macro-F1 Score :\", np.mean(cv_scores), \"(+/- %0.2f)\" % (cv_scores.std() * 2))"
   ]
  },
  {
   "cell_type": "code",
   "execution_count": 37,
   "metadata": {},
   "outputs": [],
   "source": [
    "# re-train model on all train data"
   ]
  },
  {
   "cell_type": "code",
   "execution_count": 39,
   "metadata": {},
   "outputs": [],
   "source": [
    "train_data_X = train_data_X_processed\n",
    "train_data_Y = train_data['size_class'] # column to be predicted "
   ]
  },
  {
   "cell_type": "code",
   "execution_count": 40,
   "metadata": {},
   "outputs": [
    {
     "data": {
      "text/plain": [
       "RandomForestClassifier(bootstrap=True, class_weight=None, criterion='gini',\n",
       "            max_depth=None, max_features='auto', max_leaf_nodes=None,\n",
       "            min_impurity_decrease=0.0, min_impurity_split=None,\n",
       "            min_samples_leaf=1, min_samples_split=2,\n",
       "            min_weight_fraction_leaf=0.0, n_estimators=100, n_jobs=None,\n",
       "            oob_score=False, random_state=25, verbose=0, warm_start=False)"
      ]
     },
     "execution_count": 40,
     "metadata": {},
     "output_type": "execute_result"
    }
   ],
   "source": [
    "model.fit(train_data_X, train_data_Y)"
   ]
  },
  {
   "cell_type": "code",
   "execution_count": 41,
   "metadata": {},
   "outputs": [
    {
     "data": {
      "text/html": [
       "<div>\n",
       "<style scoped>\n",
       "    .dataframe tbody tr th:only-of-type {\n",
       "        vertical-align: middle;\n",
       "    }\n",
       "\n",
       "    .dataframe tbody tr th {\n",
       "        vertical-align: top;\n",
       "    }\n",
       "\n",
       "    .dataframe thead th {\n",
       "        text-align: right;\n",
       "    }\n",
       "</style>\n",
       "<table border=\"1\" class=\"dataframe\">\n",
       "  <thead>\n",
       "    <tr style=\"text-align: right;\">\n",
       "      <th></th>\n",
       "      <th>Importance</th>\n",
       "    </tr>\n",
       "    <tr>\n",
       "      <th>Feature</th>\n",
       "      <th></th>\n",
       "    </tr>\n",
       "  </thead>\n",
       "  <tbody>\n",
       "    <tr>\n",
       "      <th>fire_duration</th>\n",
       "      <td>0.298341</td>\n",
       "    </tr>\n",
       "    <tr>\n",
       "      <th>fire_location_latitude</th>\n",
       "      <td>0.166610</td>\n",
       "    </tr>\n",
       "    <tr>\n",
       "      <th>fire_location_longitude</th>\n",
       "      <td>0.141697</td>\n",
       "    </tr>\n",
       "    <tr>\n",
       "      <th>fuel_type</th>\n",
       "      <td>0.100269</td>\n",
       "    </tr>\n",
       "    <tr>\n",
       "      <th>reported_month</th>\n",
       "      <td>0.062573</td>\n",
       "    </tr>\n",
       "    <tr>\n",
       "      <th>activity_class</th>\n",
       "      <td>0.048100</td>\n",
       "    </tr>\n",
       "    <tr>\n",
       "      <th>weather_conditions_over_fire</th>\n",
       "      <td>0.044832</td>\n",
       "    </tr>\n",
       "    <tr>\n",
       "      <th>fire_number</th>\n",
       "      <td>0.042989</td>\n",
       "    </tr>\n",
       "    <tr>\n",
       "      <th>general_cause_desc</th>\n",
       "      <td>0.037301</td>\n",
       "    </tr>\n",
       "    <tr>\n",
       "      <th>fire_type</th>\n",
       "      <td>0.034509</td>\n",
       "    </tr>\n",
       "    <tr>\n",
       "      <th>fire_origin</th>\n",
       "      <td>0.022781</td>\n",
       "    </tr>\n",
       "  </tbody>\n",
       "</table>\n",
       "</div>"
      ],
      "text/plain": [
       "                              Importance\n",
       "Feature                                 \n",
       "fire_duration                   0.298341\n",
       "fire_location_latitude          0.166610\n",
       "fire_location_longitude         0.141697\n",
       "fuel_type                       0.100269\n",
       "reported_month                  0.062573\n",
       "activity_class                  0.048100\n",
       "weather_conditions_over_fire    0.044832\n",
       "fire_number                     0.042989\n",
       "general_cause_desc              0.037301\n",
       "fire_type                       0.034509\n",
       "fire_origin                     0.022781"
      ]
     },
     "execution_count": 41,
     "metadata": {},
     "output_type": "execute_result"
    }
   ],
   "source": [
    "# feature importance\n",
    "importance = pd.DataFrame()\n",
    "importance['Feature'] = train_data_X.columns\n",
    "importance['Importance'] = model.feature_importances_\n",
    "importance.set_index('Feature', inplace=True)\n",
    "\n",
    "importance.sort_values(by='Importance', ascending=False)"
   ]
  },
  {
   "cell_type": "markdown",
   "metadata": {},
   "source": [
    "### Predict on Test dataset"
   ]
  },
  {
   "cell_type": "code",
   "execution_count": 42,
   "metadata": {},
   "outputs": [],
   "source": [
    "pred_test_data_Y = pd.DataFrame()\n",
    "pred_test_data_Y['fire_number'] = test_data_X['fire_number']"
   ]
  },
  {
   "cell_type": "code",
   "execution_count": 43,
   "metadata": {},
   "outputs": [
    {
     "name": "stderr",
     "output_type": "stream",
     "text": [
      "C:\\Users\\uib50578\\AppData\\Local\\Continuum\\anaconda2\\lib\\site-packages\\ipykernel_launcher.py:7: SettingWithCopyWarning: \n",
      "A value is trying to be set on a copy of a slice from a DataFrame\n",
      "\n",
      "See the caveats in the documentation: http://pandas.pydata.org/pandas-docs/stable/indexing.html#indexing-view-versus-copy\n",
      "  import sys\n",
      "C:\\Users\\uib50578\\AppData\\Local\\Continuum\\anaconda2\\lib\\site-packages\\ipykernel_launcher.py:8: SettingWithCopyWarning: \n",
      "A value is trying to be set on a copy of a slice from a DataFrame\n",
      "\n",
      "See the caveats in the documentation: http://pandas.pydata.org/pandas-docs/stable/indexing.html#indexing-view-versus-copy\n",
      "  \n"
     ]
    }
   ],
   "source": [
    "test_data_X = preprocess(test_data_X)"
   ]
  },
  {
   "cell_type": "code",
   "execution_count": 44,
   "metadata": {},
   "outputs": [
    {
     "data": {
      "text/plain": [
       "fire_number                       int32\n",
       "fire_location_latitude          float64\n",
       "fire_location_longitude         float64\n",
       "fire_origin                       int32\n",
       "general_cause_desc                int32\n",
       "activity_class                    int32\n",
       "fire_type                         int32\n",
       "weather_conditions_over_fire      int32\n",
       "fuel_type                         int32\n",
       "fire_duration                    object\n",
       "reported_month                   object\n",
       "dtype: object"
      ]
     },
     "execution_count": 44,
     "metadata": {},
     "output_type": "execute_result"
    }
   ],
   "source": [
    "test_data_X.dtypes"
   ]
  },
  {
   "cell_type": "code",
   "execution_count": 45,
   "metadata": {},
   "outputs": [],
   "source": [
    "pred_test_data_Y['size_class'] = model.predict(test_data_X)"
   ]
  },
  {
   "cell_type": "code",
   "execution_count": 46,
   "metadata": {},
   "outputs": [
    {
     "data": {
      "text/plain": [
       "(3969, 2)"
      ]
     },
     "execution_count": 46,
     "metadata": {},
     "output_type": "execute_result"
    }
   ],
   "source": [
    "pred_test_data_Y.shape"
   ]
  }
 ],
 "metadata": {
  "kernelspec": {
   "display_name": "Python 2",
   "language": "python",
   "name": "python2"
  },
  "language_info": {
   "codemirror_mode": {
    "name": "ipython",
    "version": 2
   },
   "file_extension": ".py",
   "mimetype": "text/x-python",
   "name": "python",
   "nbconvert_exporter": "python",
   "pygments_lexer": "ipython2",
   "version": "2.7.16"
  }
 },
 "nbformat": 4,
 "nbformat_minor": 2
}
